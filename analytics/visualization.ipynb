{
 "cells": [
  {
   "cell_type": "markdown",
   "metadata": {},
   "source": [
    "# visualization\n"
   ]
  },
  {
   "cell_type": "code",
   "execution_count": null,
   "metadata": {},
   "outputs": [],
   "source": [
    "import numpy as np\n",
    "import plotly.express as px"
   ]
  },
  {
   "cell_type": "code",
   "execution_count": null,
   "metadata": {},
   "outputs": [],
   "source": [
    "xpoints= np.arange(60)\n",
    "ypoints= np.random.rand(60)\n",
    "px.line(x=xpoints, y=ypoints)\n"
   ]
  },
  {
   "cell_type": "code",
   "execution_count": null,
   "metadata": {},
   "outputs": [],
   "source": [
    "x =np.random.randint(1, 100, 100)\n",
    "y =np.random.randint(1, 100, 100)\n",
    "z =np.random.uniform(1, 100, 100)\n",
    "px.scatter_3d(x=x, y=y, z=z, \n",
    "              color=z,\n",
    "              size=z, \n",
    "              size_max=18,\n",
    "              template='plotly_dark')"
   ]
  },
  {
   "cell_type": "markdown",
   "metadata": {},
   "source": [
    "In numpy data are called ARRAY"
   ]
  },
  {
   "cell_type": "code",
   "execution_count": null,
   "metadata": {},
   "outputs": [],
   "source": [
    "tips = px.data.tips()\n",
    "tips"
   ]
  },
  {
   "cell_type": "code",
   "execution_count": null,
   "metadata": {},
   "outputs": [],
   "source": [
    "# pie chart\n",
    "count = tips['sex'].value_counts()\n",
    "px.pie(count, count.index, count.values)"
   ]
  },
  {
   "cell_type": "code",
   "execution_count": null,
   "metadata": {},
   "outputs": [],
   "source": [
    "# donut chart\n",
    "count = tips['sex'].value_counts()\n",
    "px.pie(count, count.index, count.values, hole =0.5)"
   ]
  },
  {
   "cell_type": "code",
   "execution_count": null,
   "metadata": {},
   "outputs": [],
   "source": [
    "#relation of numerical data\n",
    "px.scatter(tips, x = 'total_bill', y = 'tip', size = 'size', template = 'plotly_dark')"
   ]
  },
  {
   "cell_type": "code",
   "execution_count": null,
   "metadata": {},
   "outputs": [],
   "source": [
    "px.scatter(tips, x = 'total_bill', y = 'tip',size = 'size',facet_col = 'sex',facet_row = 'smoker')"
   ]
  },
  {
   "cell_type": "code",
   "execution_count": null,
   "metadata": {},
   "outputs": [],
   "source": [
    "px.sunburst(\n",
    "    tips,\n",
    "    path = ['day', 'time', 'sex'],\n",
    "    values = 'total_bill'\n",
    ")"
   ]
  },
  {
   "cell_type": "code",
   "execution_count": null,
   "metadata": {},
   "outputs": [],
   "source": [
    "iris=px.data.iris()\n",
    "iris"
   ]
  },
  {
   "cell_type": "code",
   "execution_count": null,
   "metadata": {},
   "outputs": [],
   "source": [
    "fig = px.scatter_matrix(iris,\n",
    "                  dimensions=[\n",
    "                      'sepal_width',\n",
    "                      'sepal_length',\n",
    "                      'petal_width',\n",
    "                      'petal_length'\n",
    "                  ],\n",
    "                  color = 'species',\n",
    "                  height = 800, width = 900)\n",
    "fig.update_layout(\n",
    "    title = 'Scatter Matrix if Iris Dataset',\n",
    "    dragmode = 'select',\n",
    "    hovermode= 'closest'\n",
    ")\n",
    "fig.show()"
   ]
  },
  {
   "cell_type": "code",
   "execution_count": null,
   "metadata": {},
   "outputs": [],
   "source": []
  }
 ],
 "metadata": {
  "kernelspec": {
   "display_name": "base",
   "language": "python",
   "name": "python3"
  },
  "language_info": {
   "codemirror_mode": {
    "name": "ipython",
    "version": 3
   },
   "file_extension": ".py",
   "mimetype": "text/x-python",
   "name": "python",
   "nbconvert_exporter": "python",
   "pygments_lexer": "ipython3",
   "version": "3.11.5"
  }
 },
 "nbformat": 4,
 "nbformat_minor": 2
}
