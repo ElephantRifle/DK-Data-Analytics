{
 "cells": [
  {
   "cell_type": "code",
   "execution_count": 2,
   "metadata": {},
   "outputs": [],
   "source": [
    "a =700"
   ]
  },
  {
   "cell_type": "code",
   "execution_count": 4,
   "metadata": {},
   "outputs": [
    {
     "name": "stdout",
     "output_type": "stream",
     "text": [
      "2.4 7.6 -4564\n"
     ]
    }
   ],
   "source": [
    "x=2.4\n",
    "y=7.6\n",
    "z=-4564\n",
    "print(x,y,z)"
   ]
  },
  {
   "cell_type": "code",
   "execution_count": 2,
   "metadata": {},
   "outputs": [
    {
     "name": "stdout",
     "output_type": "stream",
     "text": [
      "15700.0\n"
     ]
    }
   ],
   "source": [
    "p=100000\n",
    "r=3.14\n",
    "t=5\n",
    "si=p*r*t/100\n",
    "print(si)\n"
   ]
  },
  {
   "cell_type": "code",
   "execution_count": 6,
   "metadata": {},
   "outputs": [],
   "source": [
    "name=\"Narendra modi\"\n",
    "color=\"Bhagwa\"\n",
    "institute=\"BJP\""
   ]
  },
  {
   "cell_type": "code",
   "execution_count": 7,
   "metadata": {},
   "outputs": [],
   "source": [
    "fruits=['apple','banana','chestnut']#list\n",
    "coords=(2,3,5)#tuple\n",
    "items={3,4,5,3,5,6,6}#set\n",
    "emp={'name':'Alex','age':30}#dictionary"
   ]
  },
  {
   "cell_type": "code",
   "execution_count": 9,
   "metadata": {},
   "outputs": [
    {
     "data": {
      "text/plain": [
       "True"
      ]
     },
     "execution_count": 9,
     "metadata": {},
     "output_type": "execute_result"
    }
   ],
   "source": [
    "'chestnut' in fruits"
   ]
  },
  {
   "cell_type": "code",
   "execution_count": 20,
   "metadata": {},
   "outputs": [
    {
     "data": {
      "text/plain": [
       "False"
      ]
     },
     "execution_count": 20,
     "metadata": {},
     "output_type": "execute_result"
    }
   ],
   "source": [
    "'mango' in fruits"
   ]
  },
  {
   "cell_type": "markdown",
   "metadata": {},
   "source": [
    "Input & Output"
   ]
  },
  {
   "cell_type": "code",
   "execution_count": 23,
   "metadata": {},
   "outputs": [],
   "source": [
    "name = input('Enter your name: ')"
   ]
  },
  {
   "cell_type": "code",
   "execution_count": 24,
   "metadata": {},
   "outputs": [
    {
     "name": "stdout",
     "output_type": "stream",
     "text": [
      "12.0\n",
      "452.57142857142856\n"
     ]
    }
   ],
   "source": [
    "pi = 22/7\n",
    "r = float(input('Enter radius: '))\n",
    "area=pi*r**2\n",
    "print(r)\n",
    "print(area)"
   ]
  },
  {
   "cell_type": "code",
   "execution_count": 36,
   "metadata": {},
   "outputs": [
    {
     "name": "stdout",
     "output_type": "stream",
     "text": [
      "a=12,b=13,c=4\n"
     ]
    }
   ],
   "source": [
    "a=12\n",
    "b=13\n",
    "c=4\n",
    "#output using f-strings\n",
    "print(f'a={a},b={b},c={c}')"
   ]
  },
  {
   "cell_type": "code",
   "execution_count": 39,
   "metadata": {},
   "outputs": [
    {
     "name": "stdout",
     "output_type": "stream",
     "text": [
      "12 13 4\n",
      "a= 12 b= 13 c= 4\n"
     ]
    }
   ],
   "source": [
    "#comma seperated display\n",
    "print(a,b,c)\n",
    "print('a=',a,'b=',b,'c=',c)"
   ]
  },
  {
   "cell_type": "code",
   "execution_count": 1,
   "metadata": {},
   "outputs": [
    {
     "name": "stdout",
     "output_type": "stream",
     "text": [
      "Your Details\n",
      "Name : ggggg\n",
      "Favorite Things\n",
      "Movie: fgfdg\n"
     ]
    }
   ],
   "source": [
    "name = input(\"Name: \")\n",
    "fav_movie = input(\"Your favorite movie: \")\n",
    "fav_food = input(\"Your favorite food: \")\n",
    "\n",
    "print(\"Your Details\")\n",
    "print(f'Name : {name}')\n",
    "print('Favorite Things')\n",
    "print(f'Movie: {fav_movie}')\n"
   ]
  }
 ],
 "metadata": {
  "kernelspec": {
   "display_name": "base",
   "language": "python",
   "name": "python3"
  },
  "language_info": {
   "codemirror_mode": {
    "name": "ipython",
    "version": 3
   },
   "file_extension": ".py",
   "mimetype": "text/x-python",
   "name": "python",
   "nbconvert_exporter": "python",
   "pygments_lexer": "ipython3",
   "version": "3.11.5"
  }
 },
 "nbformat": 4,
 "nbformat_minor": 2
}
