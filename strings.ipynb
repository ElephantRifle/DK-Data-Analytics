{
 "cells": [
  {
   "cell_type": "markdown",
   "metadata": {},
   "source": [
    "Strings\n"
   ]
  },
  {
   "cell_type": "code",
   "execution_count": 1,
   "metadata": {},
   "outputs": [
    {
     "name": "stdout",
     "output_type": "stream",
     "text": [
      "Hello\n"
     ]
    }
   ],
   "source": [
    "my_string = \"Hello\"\n",
    "print(my_string)"
   ]
  },
  {
   "cell_type": "code",
   "execution_count": 4,
   "metadata": {},
   "outputs": [
    {
     "name": "stdout",
     "output_type": "stream",
     "text": [
      "Hello\n"
     ]
    }
   ],
   "source": [
    "my_string = '''Hello'''\n",
    "print(my_string)"
   ]
  },
  {
   "cell_type": "code",
   "execution_count": 5,
   "metadata": {},
   "outputs": [
    {
     "name": "stdout",
     "output_type": "stream",
     "text": [
      "Hello ,welcome to the worlds of Python\n"
     ]
    }
   ],
   "source": [
    "my_string = \"\"\"Hello ,welcome to the worlds of Python\"\"\"\n",
    "print(my_string)"
   ]
  },
  {
   "cell_type": "code",
   "execution_count": 12,
   "metadata": {},
   "outputs": [
    {
     "name": "stdout",
     "output_type": "stream",
     "text": [
      "str =  digipodium\n",
      "str[0] =   d\n",
      "str[1] =   i\n",
      "str[-1] =  m\n",
      "str[-2] =  u\n"
     ]
    }
   ],
   "source": [
    "str = 'digipodium'\n",
    "print('str = ',str)\n",
    "print('str[0] =  ',str[0])\n",
    "print('str[1] =  ',str[1])\n",
    "print('str[-1] = ',str[-1])\n",
    "print('str[-2] = ',str[-2])"
   ]
  },
  {
   "cell_type": "code",
   "execution_count": 33,
   "metadata": {},
   "outputs": [
    {
     "data": {
      "text/plain": [
       "' galti sa bhi nahi'"
      ]
     },
     "execution_count": 33,
     "metadata": {},
     "output_type": "execute_result"
    }
   ],
   "source": [
    "name ='BBD maat jana, galti sa bhi nahi'\n",
    "name[:15] \n",
    "name[15:]\n",
    "name[-18:]"
   ]
  },
  {
   "cell_type": "code",
   "execution_count": 37,
   "metadata": {},
   "outputs": [
    {
     "name": "stdout",
     "output_type": "stream",
     "text": [
      "edward\n",
      "edward\n"
     ]
    }
   ],
   "source": [
    "username = \"@edward🤰🤰🤰\"\n",
    "print(username[1:7])\n",
    "print(username[1:-3])"
   ]
  },
  {
   "cell_type": "code",
   "execution_count": 38,
   "metadata": {},
   "outputs": [
    {
     "name": "stdout",
     "output_type": "stream",
     "text": [
      "abcdef\n"
     ]
    }
   ],
   "source": [
    "english ='abcdefghijklmnopqrstuvwxy'\n",
    "print(english[:6])\n",
    "\n",
    "\n",
    "\n",
    "\n"
   ]
  },
  {
   "cell_type": "code",
   "execution_count": 50,
   "metadata": {},
   "outputs": [
    {
     "name": "stdout",
     "output_type": "stream",
     "text": [
      "the quick \n",
      "e lazy dog\n"
     ]
    }
   ],
   "source": [
    "msg ='the quick brown fox jumps over the lazy dog'\n",
    "print(msg[:10])\n",
    "print(msg[-10:])"
   ]
  },
  {
   "cell_type": "code",
   "execution_count": 54,
   "metadata": {},
   "outputs": [
    {
     "name": "stdout",
     "output_type": "stream",
     "text": [
      "A\n",
      "\u0005\n",
      "#\n"
     ]
    }
   ],
   "source": [
    "x = chr(65)\n",
    "print(x)\n",
    "x = chr(5)\n",
    "print(x)\n",
    "x = chr(35)\n",
    "print(x)"
   ]
  },
  {
   "cell_type": "code",
   "execution_count": 58,
   "metadata": {},
   "outputs": [
    {
     "name": "stdout",
     "output_type": "stream",
     "text": [
      "65\n",
      "97\n",
      "123\n"
     ]
    }
   ],
   "source": [
    "#to find the index we use ord()\n",
    "y =ord('A')\n",
    "print(y)\n",
    "y =ord('a')\n",
    "print(y)\n",
    "y =ord('{')\n",
    "print(y)"
   ]
  },
  {
   "cell_type": "code",
   "execution_count": 63,
   "metadata": {},
   "outputs": [
    {
     "name": "stdout",
     "output_type": "stream",
     "text": [
      "apple1kg\n",
      "This is amazing!\n"
     ]
    }
   ],
   "source": [
    "#concatenation\n",
    "a =\"apple\"\n",
    "b = \"1kg\"\n",
    "ab = a+b\n",
    "print(ab)\n",
    "\n",
    "w1 = \"This\"\n",
    "w2 = \" is\"\n",
    "w3 =\" amazing!\"\n",
    "msg = w1 + w2 +w3\n",
    "print(msg)"
   ]
  },
  {
   "cell_type": "code",
   "execution_count": 65,
   "metadata": {},
   "outputs": [
    {
     "name": "stdout",
     "output_type": "stream",
     "text": [
      "HiHiHi\n",
      "-------------------------\n"
     ]
    }
   ],
   "source": [
    "#Duplication\n",
    "word = 'Hi'\n",
    "print(word * 3)\n",
    "print('-' * 25)"
   ]
  }
 ],
 "metadata": {
  "kernelspec": {
   "display_name": "base",
   "language": "python",
   "name": "python3"
  },
  "language_info": {
   "codemirror_mode": {
    "name": "ipython",
    "version": 3
   },
   "file_extension": ".py",
   "mimetype": "text/x-python",
   "name": "python",
   "nbconvert_exporter": "python",
   "pygments_lexer": "ipython3",
   "version": "3.11.5"
  }
 },
 "nbformat": 4,
 "nbformat_minor": 2
}
