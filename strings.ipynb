{
 "cells": [
  {
   "cell_type": "markdown",
   "metadata": {},
   "source": [
    "Strings\n"
   ]
  },
  {
   "cell_type": "code",
   "execution_count": 1,
   "metadata": {},
   "outputs": [
    {
     "name": "stdout",
     "output_type": "stream",
     "text": [
      "Hello\n"
     ]
    }
   ],
   "source": [
    "my_string = \"Hello\"\n",
    "print(my_string)"
   ]
  },
  {
   "cell_type": "code",
   "execution_count": 4,
   "metadata": {},
   "outputs": [
    {
     "name": "stdout",
     "output_type": "stream",
     "text": [
      "Hello\n"
     ]
    }
   ],
   "source": [
    "my_string = '''Hello'''\n",
    "print(my_string)"
   ]
  },
  {
   "cell_type": "code",
   "execution_count": 5,
   "metadata": {},
   "outputs": [
    {
     "name": "stdout",
     "output_type": "stream",
     "text": [
      "Hello ,welcome to the worlds of Python\n"
     ]
    }
   ],
   "source": [
    "my_string = \"\"\"Hello ,welcome to the worlds of Python\"\"\"\n",
    "print(my_string)"
   ]
  },
  {
   "cell_type": "code",
   "execution_count": 12,
   "metadata": {},
   "outputs": [
    {
     "name": "stdout",
     "output_type": "stream",
     "text": [
      "str =  digipodium\n",
      "str[0] =   d\n",
      "str[1] =   i\n",
      "str[-1] =  m\n",
      "str[-2] =  u\n"
     ]
    }
   ],
   "source": [
    "str = 'digipodium'\n",
    "print('str = ',str)\n",
    "print('str[0] =  ',str[0])\n",
    "print('str[1] =  ',str[1])\n",
    "print('str[-1] = ',str[-1])\n",
    "print('str[-2] = ',str[-2])"
   ]
  },
  {
   "cell_type": "code",
   "execution_count": 33,
   "metadata": {},
   "outputs": [
    {
     "data": {
      "text/plain": [
       "' galti sa bhi nahi'"
      ]
     },
     "execution_count": 33,
     "metadata": {},
     "output_type": "execute_result"
    }
   ],
   "source": [
    "name ='BBD maat jana, galti sa bhi nahi'\n",
    "name[:15] \n",
    "name[15:]\n",
    "name[-18:]"
   ]
  },
  {
   "cell_type": "code",
   "execution_count": 37,
   "metadata": {},
   "outputs": [
    {
     "name": "stdout",
     "output_type": "stream",
     "text": [
      "edward\n",
      "edward\n"
     ]
    }
   ],
   "source": [
    "username = \"@edward🤰🤰🤰\"\n",
    "print(username[1:7])\n",
    "print(username[1:-3])"
   ]
  },
  {
   "cell_type": "code",
   "execution_count": 38,
   "metadata": {},
   "outputs": [
    {
     "name": "stdout",
     "output_type": "stream",
     "text": [
      "abcdef\n"
     ]
    }
   ],
   "source": [
    "english ='abcdefghijklmnopqrstuvwxy'\n",
    "print(english[:6])\n",
    "\n",
    "\n",
    "\n",
    "\n"
   ]
  },
  {
   "cell_type": "code",
   "execution_count": 50,
   "metadata": {},
   "outputs": [
    {
     "name": "stdout",
     "output_type": "stream",
     "text": [
      "the quick \n",
      "e lazy dog\n"
     ]
    }
   ],
   "source": [
    "msg ='the quick brown fox jumps over the lazy dog'\n",
    "print(msg[:10])\n",
    "print(msg[-10:])"
   ]
  },
  {
   "cell_type": "code",
   "execution_count": 54,
   "metadata": {},
   "outputs": [
    {
     "name": "stdout",
     "output_type": "stream",
     "text": [
      "A\n",
      "\u0005\n",
      "#\n"
     ]
    }
   ],
   "source": [
    "x = chr(65)\n",
    "print(x)\n",
    "x = chr(5)\n",
    "print(x)\n",
    "x = chr(35)\n",
    "print(x)"
   ]
  },
  {
   "cell_type": "code",
   "execution_count": 58,
   "metadata": {},
   "outputs": [
    {
     "name": "stdout",
     "output_type": "stream",
     "text": [
      "65\n",
      "97\n",
      "123\n"
     ]
    }
   ],
   "source": [
    "#to find the index we use ord()\n",
    "y =ord('A')\n",
    "print(y)\n",
    "y =ord('a')\n",
    "print(y)\n",
    "y =ord('{')\n",
    "print(y)"
   ]
  },
  {
   "cell_type": "code",
   "execution_count": 63,
   "metadata": {},
   "outputs": [
    {
     "name": "stdout",
     "output_type": "stream",
     "text": [
      "apple1kg\n",
      "This is amazing!\n"
     ]
    }
   ],
   "source": [
    "#concatenation\n",
    "a =\"apple\"\n",
    "b = \"1kg\"\n",
    "ab = a+b\n",
    "print(ab)\n",
    "\n",
    "w1 = \"This\"\n",
    "w2 = \" is\"\n",
    "w3 =\" amazing!\"\n",
    "msg = w1 + w2 +w3\n",
    "print(msg)"
   ]
  },
  {
   "cell_type": "code",
   "execution_count": 1,
   "metadata": {},
   "outputs": [
    {
     "name": "stdout",
     "output_type": "stream",
     "text": [
      "HiHiHi\n",
      "-------------------------\n"
     ]
    }
   ],
   "source": [
    "#Duplication\n",
    "word = 'Hi'\n",
    "print(word * 3)\n",
    "print('-' * 25)"
   ]
  },
  {
   "cell_type": "markdown",
   "metadata": {},
   "source": [
    "String Methods\n",
    "searching and replacing\n",
    "1. find\n",
    "2. replace"
   ]
  },
  {
   "cell_type": "code",
   "execution_count": 3,
   "metadata": {},
   "outputs": [
    {
     "name": "stdout",
     "output_type": "stream",
     "text": [
      "16\n",
      "12\n",
      "-1\n"
     ]
    }
   ],
   "source": [
    "msg = 'the quick brown fox jumps over the lazy dog'\n",
    "print(msg.find('fox'))\n",
    "print(msg.find('o'))\n",
    "print(msg.find('bear'))#-1 means is not found"
   ]
  },
  {
   "cell_type": "code",
   "execution_count": 5,
   "metadata": {},
   "outputs": [
    {
     "name": "stdout",
     "output_type": "stream",
     "text": [
      "the quick brown elephant jumps over the lazy dog\n",
      "the quick briwn fix jumps iver the lazy dig\n",
      "the quick brown unicorn vault over the lazy rabbit\n"
     ]
    }
   ],
   "source": [
    "print(msg.replace('fox','elephant'))\n",
    "msg = 'the quick brown fox jumps over the lazy dog'\n",
    "print(msg.replace('o','i'))\n",
    "print(msg.replace('fox','unicorn').replace('dog','rabbit').replace('jumps','vault'))\n"
   ]
  },
  {
   "cell_type": "markdown",
   "metadata": {},
   "source": [
    "Manipulation of string into list and vice versa\n",
    "1.split\n",
    "2.join\n",
    "3.strip"
   ]
  },
  {
   "cell_type": "code",
   "execution_count": 10,
   "metadata": {},
   "outputs": [
    {
     "name": "stdout",
     "output_type": "stream",
     "text": [
      "['the', 'quick', 'brown', 'fox', 'jumps', 'over', 'the', 'lazy', 'dog']\n",
      "['Life before death', ' strength before weakness', 'journey before destination']\n",
      "['Johny johny yes papa', 'eating suger no papa', 'open your mouth no papa ', 'i dont know ']\n"
     ]
    }
   ],
   "source": [
    "print(msg.split())\n",
    "msg2 = \"Life before death, strength before weakness,journey before destination\"\n",
    "print(msg2.split(','))\n",
    "\n",
    "poem = '''Johny johny yes papa\n",
    "eating suger no papa\n",
    "open your mouth no papa \n",
    "i dont know '''\n",
    "\n",
    "print(poem.splitlines())"
   ]
  },
  {
   "cell_type": "code",
   "execution_count": 12,
   "metadata": {},
   "outputs": [
    {
     "name": "stdout",
     "output_type": "stream",
     "text": [
      "a b c d e\n",
      "a+b+c+d+e\n",
      "a,b,c,d,e\n",
      "abcde\n"
     ]
    }
   ],
   "source": [
    "x = ['a','b','c','d','e']\n",
    "print(\" \".join(x))\n",
    "print(\"+\".join(x))\n",
    "print(\",\".join(x))\n",
    "print(\"\".join(x))"
   ]
  },
  {
   "cell_type": "markdown",
   "metadata": {},
   "source": [
    "\" hello \"\n",
    "leading space(at the start b/t \" and h)      trailing space(between o and \")"
   ]
  },
  {
   "cell_type": "code",
   "execution_count": 18,
   "metadata": {},
   "outputs": [
    {
     "name": "stdout",
     "output_type": "stream",
     "text": [
      " apple     rainbows  unicorn   \n",
      "ola\n",
      "\n",
      "apple\n",
      "rainbows\n",
      "unicorn\n",
      "ola\n"
     ]
    }
   ],
   "source": [
    "a = \" apple \"\n",
    "b = '   rainbows'\n",
    "c = ' unicorn  '\n",
    "d = '''\n",
    "ola\n",
    "'''\n",
    "\n",
    "print(a,b,c,d)\n",
    "#to remove space leading and trailing\n",
    "print(a.strip())\n",
    "print(b.strip())\n",
    "print(c.strip())\n",
    "print(d.strip())"
   ]
  },
  {
   "cell_type": "markdown",
   "metadata": {},
   "source": [
    "Counting \n",
    "1 .count(this is sequence counting not word counting)"
   ]
  },
  {
   "cell_type": "code",
   "execution_count": 20,
   "metadata": {},
   "outputs": [
    {
     "name": "stdout",
     "output_type": "stream",
     "text": [
      "8\n",
      "2\n",
      "2\n",
      "1\n"
     ]
    }
   ],
   "source": [
    "sentence = '''Once upon a time\n",
    "in a land far far away,\n",
    "there lived a princes \n",
    "with her pet unicorn\n",
    "'''\n",
    "print(sentence.count('a'))\n",
    "print(sentence.count('far'))\n",
    "print(sentence.count('in'))\n",
    "print(sentence.count('unicorn'))"
   ]
  },
  {
   "cell_type": "markdown",
   "metadata": {},
   "source": [
    "Formatting \n",
    "1. upper\n",
    "2. lower\n",
    "3. capitalize\n",
    "4. title\n"
   ]
  },
  {
   "cell_type": "code",
   "execution_count": 21,
   "metadata": {},
   "outputs": [
    {
     "name": "stdout",
     "output_type": "stream",
     "text": [
      "THE QUICK BROWN FOX JUMPS OVER THE LAZY DOG\n",
      "the quick brown fox jumps over the lazy dog\n",
      "The quick brown fox jumps over the lazy dog\n",
      "The Quick Brown Fox Jumps Over The Lazy Dog\n"
     ]
    }
   ],
   "source": [
    "print(msg.upper())\n",
    "print(msg.lower())\n",
    "print(msg.capitalize())\n",
    "print(msg.title())"
   ]
  }
 ],
 "metadata": {
  "kernelspec": {
   "display_name": "base",
   "language": "python",
   "name": "python3"
  },
  "language_info": {
   "codemirror_mode": {
    "name": "ipython",
    "version": 3
   },
   "file_extension": ".py",
   "mimetype": "text/x-python",
   "name": "python",
   "nbconvert_exporter": "python",
   "pygments_lexer": "ipython3",
   "version": "3.11.5"
  }
 },
 "nbformat": 4,
 "nbformat_minor": 2
}
