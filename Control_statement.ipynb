{
 "cells": [
  {
   "cell_type": "markdown",
   "metadata": {},
   "source": [
    "Conditions\n"
   ]
  },
  {
   "cell_type": "code",
   "execution_count": null,
   "metadata": {},
   "outputs": [],
   "source": [
    "a= int(input(\"Enter number: \"))\n",
    "if a % 7 == 0:\n",
    "    print('Divisible by 7')\n",
    "    print('Hurray')"
   ]
  },
  {
   "cell_type": "code",
   "execution_count": null,
   "metadata": {},
   "outputs": [],
   "source": [
    "pwd=input(\"Enter password\")\n",
    "if len(pwd) >= 8:\n",
    "    print('Passwor is strong')\n",
    "else:\n",
    "    print('Password is too short')\n"
   ]
  },
  {
   "cell_type": "code",
   "execution_count": null,
   "metadata": {},
   "outputs": [],
   "source": [
    "a = int(input(\"Enter a number: \"))\n",
    "\n",
    "if a % 2 == 0:\n",
    "    print('Number is even')\n",
    "else:\n",
    "    print('Number is odd')   "
   ]
  },
  {
   "cell_type": "code",
   "execution_count": null,
   "metadata": {},
   "outputs": [],
   "source": [
    "marks = int(input(\"Enter marks: \"))\n",
    "total=600\n",
    "pct = (marks/total)* 100\n",
    "print(pct)\n",
    "if pct >= 90:\n",
    "    grade = 'A'\n",
    "elif pct >=80:\n",
    "    grade = 'B'\n",
    "elif pct >= 70:\n",
    "    grade = 'C'\n",
    "elif pct >= 60:\n",
    "    grade = 'D'\n",
    "else:\n",
    "    grade = 'F'   \n",
    "\n",
    "\n",
    "print(f'Your Grade:{grade}')\n",
    "print(f'Your Percentage:{int(pct)}%')\n"
   ]
  },
  {
   "cell_type": "code",
   "execution_count": null,
   "metadata": {},
   "outputs": [],
   "source": [
    "movies = ['Tera naam','Tumhara naam','bagalwala ka naam','The Dark Knight','The Light Knight','The Blue Knight','The Black Knight']\n",
    "\n",
    "for movies in movies:\n",
    "    print(movies)"
   ]
  },
  {
   "cell_type": "code",
   "execution_count": null,
   "metadata": {},
   "outputs": [],
   "source": [
    "for i in range(100,110,2):\n",
    "     print(i)"
   ]
  },
  {
   "cell_type": "code",
   "execution_count": null,
   "metadata": {},
   "outputs": [],
   "source": [
    "for a in range(10 ,0, -1):\n",
    "    print(a)"
   ]
  },
  {
   "cell_type": "code",
   "execution_count": null,
   "metadata": {},
   "outputs": [],
   "source": [
    "#sum of all even numbers from 0 to 100\n",
    "total=0\n",
    "#for i in range(0,100,2): we can use this instead of % operator\n",
    "for i in range(0,100):\n",
    "    if(i % 2 == 0):\n",
    "         total+=i\n",
    "print(total)    \n",
    "    \n",
    "      "
   ]
  },
  {
   "cell_type": "code",
   "execution_count": null,
   "metadata": {},
   "outputs": [],
   "source": [
    "sum(range(0,100,2))"
   ]
  },
  {
   "cell_type": "code",
   "execution_count": 20,
   "metadata": {},
   "outputs": [],
   "source": [
    "#wap to display a factorial of a number \n"
   ]
  },
  {
   "cell_type": "code",
   "execution_count": 22,
   "metadata": {},
   "outputs": [
    {
     "name": "stdout",
     "output_type": "stream",
     "text": [
      "2\n",
      "3\n",
      "4\n",
      "5\n",
      "6\n",
      "7\n",
      "8\n",
      "9\n",
      "10\n"
     ]
    }
   ],
   "source": [
    "i =1\n",
    "while i<10:\n",
    "    i+=1\n",
    "    print(i)"
   ]
  },
  {
   "cell_type": "code",
   "execution_count": 25,
   "metadata": {},
   "outputs": [
    {
     "name": "stdout",
     "output_type": "stream",
     "text": [
      "your are not eligible\n"
     ]
    }
   ],
   "source": [
    "while True:\n",
    "    iq = int(input(\"Enter your iq: \"))\n",
    "    if iq > 120:\n",
    "        print('your are not eligible')\n",
    "        break\n",
    "    print('You need to learn more and increase your iq')"
   ]
  }
 ],
 "metadata": {
  "kernelspec": {
   "display_name": "base",
   "language": "python",
   "name": "python3"
  },
  "language_info": {
   "codemirror_mode": {
    "name": "ipython",
    "version": 3
   },
   "file_extension": ".py",
   "mimetype": "text/x-python",
   "name": "python",
   "nbconvert_exporter": "python",
   "pygments_lexer": "ipython3",
   "version": "3.11.5"
  }
 },
 "nbformat": 4,
 "nbformat_minor": 2
}
