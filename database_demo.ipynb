{
 "cells": [
  {
   "cell_type": "code",
   "execution_count": 8,
   "metadata": {},
   "outputs": [],
   "source": [
    "from database import User , Message\n",
    "from database import get_db , add_to_db"
   ]
  },
  {
   "cell_type": "code",
   "execution_count": null,
   "metadata": {},
   "outputs": [],
   "source": [
    "#Directly adding data to the database\n",
    "\n",
    "u1 = User(name = \"Ramesh\", email = \"ramesh007@gmail.com\", password = '1234567')\n",
    "u2 = User(name = \"Surash\", email = \"Shurash008@gmail.com\", password = '123456790')\n",
    "u3 = User(name = \"Rahul\", email = \"Rahul009@gmail.com\", password = '12345679012')\n",
    "add_to_db(u1)\n",
    "add_to_db(u2)\n",
    "add_to_db(u3)\n",
    "print(\"Data add to database\")\n"
   ]
  },
  {
   "cell_type": "code",
   "execution_count": 23,
   "metadata": {},
   "outputs": [
    {
     "name": "stdout",
     "output_type": "stream",
     "text": [
      "Data add to database\n"
     ]
    }
   ],
   "source": [
    "m1 = Message(message = \"hello there\", user_id = '12345')\n",
    "m2 = Message(message = \"Na g\", user_id = '123456')\n",
    "m3 = Message(message = \"Ok g \", user_id = '1234567')\n",
    "m4 = Message(message = \"BYe  \", user_id = '12345678')\n",
    "m5 = Message(message = \"Okkk g \", user_id = '123456789')\n",
    "add_to_db(m1)\n",
    "add_to_db(m2)\n",
    "add_to_db(m3)\n",
    "add_to_db(m4)\n",
    "add_to_db(m5)\n",
    "print(\"Data add to database\")\n"
   ]
  }
 ],
 "metadata": {
  "kernelspec": {
   "display_name": "base",
   "language": "python",
   "name": "python3"
  },
  "language_info": {
   "codemirror_mode": {
    "name": "ipython",
    "version": 3
   },
   "file_extension": ".py",
   "mimetype": "text/x-python",
   "name": "python",
   "nbconvert_exporter": "python",
   "pygments_lexer": "ipython3",
   "version": "3.11.5"
  }
 },
 "nbformat": 4,
 "nbformat_minor": 2
}
